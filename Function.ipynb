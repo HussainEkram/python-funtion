{
 "cells": [
  {
   "cell_type": "code",
   "execution_count": null,
   "id": "8d78220a-e171-4042-baa0-538f66c22c6d",
   "metadata": {},
   "outputs": [],
   "source": [
    "# 1. What is the difference between a function and a method in Python?\n",
    "     '''- Difference between Function and Method in Python\n",
    "\n",
    "         A function is a block of code that performs a task and is defined independently.\n",
    "         A method is associated with an object and is called using that object.\n",
    "         Methods are defined inside a class, while functions are usually defined at the module level.\n",
    "'''"
   ]
  },
  {
   "cell_type": "code",
   "execution_count": 2,
   "id": "acdcc8b0-65e9-4d3c-8baf-fe6e9e1b0fd7",
   "metadata": {},
   "outputs": [
    {
     "name": "stdout",
     "output_type": "stream",
     "text": [
      "Hello, John\n",
      "Hello from the Person class\n"
     ]
    }
   ],
   "source": [
    "# Function\n",
    "def greet(name):\n",
    "    return f\"Hello, {name}\"\n",
    "\n",
    "# Method\n",
    "class Person:\n",
    "    def greet(self):\n",
    "        return \"Hello from the Person class\"\n",
    "\n",
    "print(greet(\"John\"))           # Function call\n",
    "print(Person().greet())        # Method call"
   ]
  },
  {
   "cell_type": "code",
   "execution_count": null,
   "id": "d51b9747-4cc9-4066-a3b6-50a3ccc8d6dc",
   "metadata": {},
   "outputs": [],
   "source": [
    "# 2. Explain the concept of function arguments and parameters in Python.\n",
    "\n",
    "'''\n",
    "Function Arguments and Parameters in Python\n",
    "\n",
    "Parameters are variables listed in a function definition.\n",
    "\n",
    "Arguments are the actual values passed to the function when it is called.\n",
    "\n",
    "Python supports different types of arguments like positional, keyword, default, and variable-length arguments.\n",
    "'''"
   ]
  },
  {
   "cell_type": "code",
   "execution_count": 1,
   "id": "b32c05c7-e0a0-4bb8-a77a-c33ec65696d7",
   "metadata": {},
   "outputs": [
    {
     "name": "stdout",
     "output_type": "stream",
     "text": [
      "Hello, Alice\n"
     ]
    }
   ],
   "source": [
    "def greet(name):   # 'name' is a parameter\n",
    "    print(f\"Hello, {name}\")\n",
    "\n",
    "greet(\"Alice\")     # \"Alice\" is an argument"
   ]
  },
  {
   "cell_type": "code",
   "execution_count": null,
   "id": "bba7ce1b-091d-4a03-81b6-20d3cd11505e",
   "metadata": {},
   "outputs": [],
   "source": [
    "# 3. What are the different ways to define and call a function in Python?\n",
    "\n",
    "'''\n",
    "Ways to Define and Call Functions in Python\n",
    "\n",
    "Functions can be defined in Python using the def keyword or as a lambda (anonymous) function.\n",
    "\n",
    "They can be called directly, with arguments, or using keyword arguments.\n",
    "\n",
    "Lambda functions are used for short, single-line operations.\n",
    "'''"
   ]
  },
  {
   "cell_type": "code",
   "execution_count": 6,
   "id": "99a3adad-d2c8-46e1-90a9-bd53a29e0d5f",
   "metadata": {},
   "outputs": [
    {
     "name": "stdout",
     "output_type": "stream",
     "text": [
      "Hello, Alice\n",
      "25\n"
     ]
    }
   ],
   "source": [
    "def greet(name):       # Normal function\n",
    "    print(f\"Hello, {name}\")\n",
    "greet(\"Alice\")\n",
    "\n",
    "square = lambda x: x*x   # Lambda function\n",
    "print(square(5))"
   ]
  },
  {
   "cell_type": "code",
   "execution_count": null,
   "id": "d532351a-9038-4666-bd62-c061cbccf569",
   "metadata": {},
   "outputs": [],
   "source": [
    "# 4. What is the purpose of the `return` statement in a Python function?\n",
    "'''\n",
    "Purpose of return Statement in Python\n",
    "\n",
    "The return statement is used to send a value back from a function to the caller.\n",
    "\n",
    "It allows functions to produce results that can be stored or used elsewhere in the program.\n",
    "\n",
    "Without return, a function returns None by default\n",
    "'''"
   ]
  },
  {
   "cell_type": "code",
   "execution_count": 3,
   "id": "86a0312a-f89f-4e90-8bdb-42ebb541feab",
   "metadata": {},
   "outputs": [
    {
     "name": "stdout",
     "output_type": "stream",
     "text": [
      "15\n"
     ]
    }
   ],
   "source": [
    "def add(a, b):\n",
    "    return a + b\n",
    "\n",
    "result = add(5, 10)\n",
    "print(result)  # Output: 15"
   ]
  },
  {
   "cell_type": "code",
   "execution_count": null,
   "id": "2637eda8-ed60-4e65-a715-7c84a56ef74d",
   "metadata": {},
   "outputs": [],
   "source": [
    "# 5. What are iterators in Python and how do they differ from iterables?\n",
    "'''\n",
    "Iterators are objects in Python that allow sequential access to elements using __next__() and can be created from an iterable using iter(). \n",
    "Iterables are collections like lists, tuples, or strings that can return an iterator.\n",
    "'''"
   ]
  },
  {
   "cell_type": "code",
   "execution_count": 4,
   "id": "4905a4d8-ea08-4ee8-8d4f-fb59ee9eae2b",
   "metadata": {},
   "outputs": [
    {
     "name": "stdout",
     "output_type": "stream",
     "text": [
      "1\n",
      "2\n"
     ]
    }
   ],
   "source": [
    "nums = [1, 2, 3]  # iterable\n",
    "it = iter(nums)   # iterator\n",
    "print(next(it))  # 1\n",
    "print(next(it))  # 2"
   ]
  },
  {
   "cell_type": "code",
   "execution_count": null,
   "id": "397cea7a-a243-4d4b-ae3d-aacd00b8c79a",
   "metadata": {},
   "outputs": [],
   "source": [
    "# 6. Explain the concept of generators in Python and how they are defined.\n",
    "'''\n",
    "Generators in Python are special functions that return an iterator using the yield keyword. \n",
    "They generate values one at a time, making them memory-efficient for large data sets because they don’t store all values in memory.\n",
    "'''"
   ]
  },
  {
   "cell_type": "code",
   "execution_count": 5,
   "id": "027a07e6-f49f-4656-9f6a-52e13655055e",
   "metadata": {},
   "outputs": [
    {
     "name": "stdout",
     "output_type": "stream",
     "text": [
      "0\n",
      "1\n"
     ]
    }
   ],
   "source": [
    "def my_gen():\n",
    "    for i in range(3):\n",
    "        yield i\n",
    "\n",
    "gen = my_gen()\n",
    "print(next(gen))  # 0\n",
    "print(next(gen))  # 1"
   ]
  },
  {
   "cell_type": "code",
   "execution_count": null,
   "id": "71ea5cd5-d9c4-4d63-a72f-603ab1d0c051",
   "metadata": {},
   "outputs": [],
   "source": [
    "# 7. What are the advantages of using generators over regular functions?\n",
    "'''\n",
    "Advantages of Generators over Regular Functions:\n",
    "\n",
    "Memory Efficient – They yield one value at a time instead of storing the entire result in memory.\n",
    "\n",
    "Faster Execution – Useful for handling large datasets or streams efficiently.\n",
    "\n",
    "Lazy Evaluation – Values are produced only when needed, saving resources.\n",
    "\n",
    "Easy to Implement – Simpler to write than creating custom iterator classes.\n",
    "'''"
   ]
  },
  {
   "cell_type": "code",
   "execution_count": 7,
   "id": "979fe571-bae9-4147-802e-9f13180a72d1",
   "metadata": {},
   "outputs": [
    {
     "name": "stdout",
     "output_type": "stream",
     "text": [
      "0\n",
      "1\n",
      "2\n",
      "3\n",
      "4\n"
     ]
    }
   ],
   "source": [
    "def gen_nums():\n",
    "    for i in range(5):\n",
    "        yield i\n",
    "\n",
    "for num in gen_nums():\n",
    "    print(num)"
   ]
  },
  {
   "cell_type": "code",
   "execution_count": null,
   "id": "e78fbf81-4dcf-4b67-b297-c2e446c601f8",
   "metadata": {},
   "outputs": [],
   "source": [
    "#8. What is a lambda function in Python and when is it typically used?\n",
    "'''\n",
    "A lambda function in Python is an anonymous (nameless) function defined using the lambda keyword. \n",
    "It is typically used for short, simple operations, often as arguments in functions like map(), filter(), or sorted().\n",
    "'''"
   ]
  },
  {
   "cell_type": "code",
   "execution_count": 8,
   "id": "cadada27-1e82-41ef-ad7c-0cbbd7c7afde",
   "metadata": {},
   "outputs": [
    {
     "name": "stdout",
     "output_type": "stream",
     "text": [
      "25\n"
     ]
    }
   ],
   "source": [
    "square = lambda x: x**2\n",
    "print(square(5))  # 25"
   ]
  },
  {
   "cell_type": "code",
   "execution_count": null,
   "id": "aebcf994-aaff-4615-b33e-c19d9a24482c",
   "metadata": {},
   "outputs": [],
   "source": [
    "#9. Explain the purpose and usage of the `map()` function in Python.\n",
    "'''\n",
    "The map() function in Python applies a given function to each item of an iterable (like a list or tuple) and returns a map object (iterator). \n",
    "It is often used with lambda functions for quick operations.\n",
    "'''"
   ]
  },
  {
   "cell_type": "code",
   "execution_count": 9,
   "id": "2c2d5fa9-2d3f-45fb-8168-43c362e22a05",
   "metadata": {},
   "outputs": [
    {
     "name": "stdout",
     "output_type": "stream",
     "text": [
      "[1, 4, 9, 16]\n"
     ]
    }
   ],
   "source": [
    "nums = [1, 2, 3, 4]\n",
    "squares = map(lambda x: x**2, nums)\n",
    "print(list(squares))  # [1, 4, 9, 16]"
   ]
  },
  {
   "cell_type": "code",
   "execution_count": null,
   "id": "83afc62b-f26a-4378-a4a7-8fb5aa2736e7",
   "metadata": {},
   "outputs": [],
   "source": [
    "#10. What is the difference between `map()`, `reduce()`, and `filter()` functions in Python?\n",
    "'''\n",
    "The map() function applies a given function to each item in an iterable and returns an iterator of results.\n",
    "The filter() function selects items from an iterable that meet a specific condition and returns only those items.\n",
    "The reduce() function, from the functools module, reduces an iterable to a single value by repeatedly applying a function to its elements.\n",
    "'''"
   ]
  },
  {
   "cell_type": "code",
   "execution_count": 10,
   "id": "01541896-0b65-407a-baf6-3b21e19c5f09",
   "metadata": {},
   "outputs": [
    {
     "name": "stdout",
     "output_type": "stream",
     "text": [
      "[2, 4, 6, 8]\n",
      "[3, 4]\n",
      "10\n"
     ]
    }
   ],
   "source": [
    "from functools import reduce\n",
    "nums = [1, 2, 3, 4]\n",
    "print(list(map(lambda x: x*2, nums)))    # [2, 4, 6, 8]\n",
    "print(list(filter(lambda x: x>2, nums))) # [3, 4]\n",
    "print(reduce(lambda x,y: x+y, nums))     # 10"
   ]
  },
  {
   "cell_type": "code",
   "execution_count": null,
   "id": "f9c187cb-3fc9-4569-b2da-f33d7a351628",
   "metadata": {},
   "outputs": [],
   "source": [
    "'''                                 Practical Questions                    '''"
   ]
  },
  {
   "cell_type": "code",
   "execution_count": 12,
   "id": "1f735679-98f4-4ebb-b1b8-38d5f6f5ece9",
   "metadata": {},
   "outputs": [
    {
     "name": "stdout",
     "output_type": "stream",
     "text": [
      "22\n"
     ]
    }
   ],
   "source": [
    "#1. Write a Python function that takes a list of numbers as input and returns the sum of all even numbers in\n",
    "#the list.\n",
    "\n",
    "def sum_even_numbers(numbers):\n",
    "    return sum(num for num in numbers if num % 2 == 0)\n",
    "\n",
    "# Example usage:\n",
    "nums = [10, 21, 4, 7, 8]\n",
    "print(sum_even_numbers(nums))  # Output: 22"
   ]
  },
  {
   "cell_type": "code",
   "execution_count": 13,
   "id": "70a80708-b383-4f18-a693-43bbe087e51a",
   "metadata": {},
   "outputs": [
    {
     "name": "stdout",
     "output_type": "stream",
     "text": [
      "nohtyP\n"
     ]
    }
   ],
   "source": [
    "#2. Create a Python function that accepts a string and returns the reverse of that string.\n",
    "\n",
    "def reverse_string(text):\n",
    "    return text[::-1]\n",
    "\n",
    "# Example usage:\n",
    "word = \"Python\"\n",
    "print(reverse_string(word))  # Output: nohtyP"
   ]
  },
  {
   "cell_type": "code",
   "execution_count": 14,
   "id": "d2bf5c21-78a1-42f0-9193-7f502d092ccb",
   "metadata": {},
   "outputs": [
    {
     "name": "stdout",
     "output_type": "stream",
     "text": [
      "[4, 9, 16, 25]\n"
     ]
    }
   ],
   "source": [
    "#3. Implement a Python function that takes a list of integers and returns a new list containing the squares of\n",
    "#each number.\n",
    "\n",
    "def square_numbers(numbers):\n",
    "    return [num**2 for num in numbers]\n",
    "\n",
    "# Example usage:\n",
    "nums = [2, 3, 4, 5]\n",
    "print(square_numbers(nums))  # Output: [4, 9, 16, 25]"
   ]
  },
  {
   "cell_type": "code",
   "execution_count": 15,
   "id": "9a124dbd-9caf-4298-a07e-d5bba105cdf0",
   "metadata": {},
   "outputs": [
    {
     "name": "stdout",
     "output_type": "stream",
     "text": [
      "2 3 5 7 11 13 17 19 23 29 31 37 41 43 47 53 59 61 67 71 73 79 83 89 97 101 103 107 109 113 127 131 137 139 149 151 157 163 167 173 179 181 191 193 197 199 "
     ]
    }
   ],
   "source": [
    "#4. Write a Python function that checks if a given number is prime or not from 1 to 200.\n",
    "\n",
    "def is_prime(num):\n",
    "    if num < 2:\n",
    "        return False\n",
    "    for i in range(2, int(num**0.5) + 1):\n",
    "        if num % i == 0:\n",
    "            return False\n",
    "    return True\n",
    "\n",
    "# Example usage:\n",
    "for n in range(1, 201):\n",
    "    if is_prime(n):\n",
    "        print(n, end=\" \")"
   ]
  },
  {
   "cell_type": "code",
   "execution_count": 16,
   "id": "44c41a24-a05b-41b7-a19c-fd6e97a2d289",
   "metadata": {},
   "outputs": [
    {
     "name": "stdout",
     "output_type": "stream",
     "text": [
      "0 1 1 2 3 5 8 13 21 34 "
     ]
    }
   ],
   "source": [
    "#5. Create an iterator class in Python that generates the Fibonacci sequence up to a specified number of\n",
    "#terms.\n",
    "\n",
    "def fibonacci(terms):\n",
    "    a, b = 0, 1\n",
    "    for _ in range(terms):\n",
    "        yield a\n",
    "        a, b = b, a + b\n",
    "\n",
    "# Example usage:\n",
    "for num in fibonacci(10):\n",
    "    print(num, end=\" \")"
   ]
  },
  {
   "cell_type": "code",
   "execution_count": 17,
   "id": "d70e7ea0-15e6-4e91-8fa3-197663bad83f",
   "metadata": {},
   "outputs": [
    {
     "name": "stdout",
     "output_type": "stream",
     "text": [
      "1 2 4 8 16 32 "
     ]
    }
   ],
   "source": [
    "#6. Write a generator function in Python that yields the powers of 2 up to a given exponent.\n",
    "\n",
    "def powers_of_two(limit):\n",
    "    for exp in range(limit + 1):\n",
    "        yield 2 ** exp\n",
    "\n",
    "# Example usage:\n",
    "for val in powers_of_two(5):\n",
    "    print(val, end=\" \")"
   ]
  },
  {
   "cell_type": "code",
   "execution_count": 20,
   "id": "665979d0-fc09-45dd-a2bd-95057fdde4dd",
   "metadata": {},
   "outputs": [
    {
     "name": "stdout",
     "output_type": "stream",
     "text": [
      "Hello\n",
      "This is a test file\n",
      "With three lines\n"
     ]
    }
   ],
   "source": [
    "#7. Implement a generator function that reads a file line by line and yields each line as a string.\n",
    "\n",
    "def read_file_lines(filename):\n",
    "    with open(filename, 'r') as file:\n",
    "        for line in file:\n",
    "            yield line.strip()  # yield each line without extra newline\n",
    "# Create a sample text file for demonstration\n",
    "with open(\"sample.txt\", \"w\") as f:\n",
    "    f.write(\"Hello\\n\")\n",
    "    f.write(\"This is a test file\\n\")\n",
    "    f.write(\"With three lines\")\n",
    "\n",
    "# Use the generator to read the file line by line\n",
    "for line in read_file_lines(\"sample.txt\"):\n",
    "    print(line)"
   ]
  },
  {
   "cell_type": "code",
   "execution_count": 21,
   "id": "faa61b77-0163-494c-92b2-43193fff09b0",
   "metadata": {},
   "outputs": [
    {
     "name": "stdout",
     "output_type": "stream",
     "text": [
      "[(3, 1), (4, 2), (1, 5), (2, 8)]\n"
     ]
    }
   ],
   "source": [
    "#8. Use a lambda function in Python to sort a list of tuples based on the second element of each tuple.\n",
    "\n",
    "# Sample list of tuples\n",
    "data = [(1, 5), (3, 1), (2, 8), (4, 2)]\n",
    "\n",
    "# Sort based on the second element\n",
    "sorted_list = sorted(data, key=lambda x: x[1])\n",
    "\n",
    "print(sorted_list)"
   ]
  },
  {
   "cell_type": "code",
   "execution_count": 22,
   "id": "bb3c34b0-2a96-4c79-ba7b-55824ae4893f",
   "metadata": {},
   "outputs": [
    {
     "name": "stdout",
     "output_type": "stream",
     "text": [
      "Celsius:     [0, 20, 30, 40, 100]\n",
      "Fahrenheit:  [32.0, 68.0, 86.0, 104.0, 212.0]\n"
     ]
    }
   ],
   "source": [
    "#9. Write a Python program that uses `map()` to convert a list of temperatures from Celsius to Fahrenheit.\n",
    "\n",
    "# List of temperatures in Celsius\n",
    "celsius = [0, 20, 30, 40, 100]\n",
    "\n",
    "# Convert to Fahrenheit using map and lambda\n",
    "fahrenheit = list(map(lambda c: (c * 9/5) + 32, celsius))\n",
    "\n",
    "print(\"Celsius:    \", celsius)\n",
    "print(\"Fahrenheit: \", fahrenheit)"
   ]
  },
  {
   "cell_type": "code",
   "execution_count": 23,
   "id": "8a170f33-9b9f-403c-bb52-a168db2436b1",
   "metadata": {},
   "outputs": [
    {
     "name": "stdout",
     "output_type": "stream",
     "text": [
      "Hll Wrld\n"
     ]
    }
   ],
   "source": [
    "#10. Create a Python program that uses `filter()` to remove all the vowels from a given string.\n",
    "\n",
    "# Function to remove vowels\n",
    "def remove_vowels(text):\n",
    "    vowels = 'aeiouAEIOU'\n",
    "    return ''.join(filter(lambda ch: ch not in vowels, text))\n",
    "\n",
    "# Example usage\n",
    "string = \"Hello World\"\n",
    "result = remove_vowels(string)\n",
    "print(result)"
   ]
  },
  {
   "cell_type": "code",
   "execution_count": null,
   "id": "8b8fa38c-93ab-48fa-9e4b-c5a2e91c991e",
   "metadata": {},
   "outputs": [],
   "source": []
  }
 ],
 "metadata": {
  "kernelspec": {
   "display_name": "Python 3 (ipykernel)",
   "language": "python",
   "name": "python3"
  },
  "language_info": {
   "codemirror_mode": {
    "name": "ipython",
    "version": 3
   },
   "file_extension": ".py",
   "mimetype": "text/x-python",
   "name": "python",
   "nbconvert_exporter": "python",
   "pygments_lexer": "ipython3",
   "version": "3.13.5"
  }
 },
 "nbformat": 4,
 "nbformat_minor": 5
}
